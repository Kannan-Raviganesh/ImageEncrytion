{
 "cells": [
  {
   "cell_type": "code",
   "execution_count": null,
   "metadata": {},
   "outputs": [],
   "source": [
    "import cv2 "
   ]
  },
  {
   "cell_type": "code",
   "execution_count": null,
   "metadata": {},
   "outputs": [],
   "source": [
    "img=cv2.imread(\"Thor.jpg\")"
   ]
  },
  {
   "cell_type": "code",
   "execution_count": null,
   "metadata": {
    "scrolled": false
   },
   "outputs": [],
   "source": [
    "import base64 \n",
    "from base64 import b64encode, b64decode\n",
    "src=base64.b64encode(img)"
   ]
  },
  {
   "cell_type": "code",
   "execution_count": null,
   "metadata": {
    "scrolled": false
   },
   "outputs": [],
   "source": [
    "# AES 256 encryption/decryption using pycryptodome library\n",
    "\n",
    "import hashlib\n",
    "from Cryptodome.Cipher import AES\n",
    "import os\n",
    "from Cryptodome.Random import get_random_bytes\n",
    "\n",
    "def encrypt(plain_text, password):\n",
    "    # generate a random salt\n",
    "    salt = get_random_bytes(AES.block_size)\n",
    "\n",
    "    # use the Scrypt KDF to get a private key from the password\n",
    "    private_key = hashlib.scrypt(\n",
    "        password.encode(), salt=salt, n=2**14, r=8, p=1, dklen=32)\n",
    "\n",
    "    # create cipher config\n",
    "    cipher_config = AES.new(private_key, AES.MODE_GCM)\n",
    "\n",
    "    # return a dictionary with the encrypted text\n",
    "    cipher_text, tag = cipher_config.encrypt_and_digest(base64.b64encode(plain_text))\n",
    "    return {\n",
    "        'cipher_text': b64encode(cipher_text).decode('utf-8'),\n",
    "        'salt': b64encode(salt).decode('utf-8'),\n",
    "        'nonce': b64encode(cipher_config.nonce).decode('utf-8'),\n",
    "        'tag': b64encode(tag).decode('utf-8')\n",
    "    }\n"
   ]
  },
  {
   "cell_type": "code",
   "execution_count": null,
   "metadata": {},
   "outputs": [],
   "source": [
    "def decrypt(enc_dict, password):\n",
    "    # decode the dictionary entries from base64\n",
    "    salt = b64decode(enc_dict['salt'])\n",
    "    cipher_text = b64decode(enc_dict['cipher_text'])\n",
    "    nonce = b64decode(enc_dict['nonce'])\n",
    "    tag = b64decode(enc_dict['tag'])\n",
    "    \n",
    "\n",
    "    # generate the private key from the password and salt\n",
    "    private_key = hashlib.scrypt(\n",
    "        password.encode(), salt=salt, n=2**14, r=8, p=1, dklen=32)\n",
    "\n",
    "    # create the cipher config\n",
    "    cipher = AES.new(private_key, AES.MODE_GCM, nonce=nonce)\n",
    "\n",
    "    # decrypt the cipher text\n",
    "    decrypted = cipher.decrypt_and_verify(cipher_text, tag)\n",
    "    return decrypted\n"
   ]
  },
  {
   "cell_type": "code",
   "execution_count": null,
   "metadata": {},
   "outputs": [],
   "source": [
    "password = input(\"Password: \")\n",
    "\n",
    "# First let us encrypt secret message\n",
    "encrypted = encrypt(img, password)\n",
    "print(encrypted)\n",
    "\n",
    "    "
   ]
  },
  {
   "cell_type": "code",
   "execution_count": null,
   "metadata": {},
   "outputs": [],
   "source": [
    "decrypted=decrypt(encrypted,password) #You can Enter the Password and Encrypted Code Manually as well\n",
    "print(\"Decrypted: \", bytes.decode(decrypted))"
   ]
  },
  {
   "cell_type": "code",
   "execution_count": null,
   "metadata": {},
   "outputs": [],
   "source": [
    "if(src==decrypted):\n",
    "    print(\"True\")"
   ]
  }
 ],
 "metadata": {
  "kernelspec": {
   "display_name": "Python 3",
   "language": "python",
   "name": "python3"
  },
  "language_info": {
   "codemirror_mode": {
    "name": "ipython",
    "version": 3
   },
   "file_extension": ".py",
   "mimetype": "text/x-python",
   "name": "python",
   "nbconvert_exporter": "python",
   "pygments_lexer": "ipython3",
   "version": "3.7.3"
  }
 },
 "nbformat": 4,
 "nbformat_minor": 2
}
